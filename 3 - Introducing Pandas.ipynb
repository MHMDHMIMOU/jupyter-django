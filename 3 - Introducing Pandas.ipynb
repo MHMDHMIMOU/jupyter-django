{
 "cells": [
  {
   "cell_type": "markdown",
   "metadata": {
    "deletable": true,
    "editable": true
   },
   "source": [
    "# Introducing Pandas\n",
    "\n",
    "From the [docs](http://pandas.pydata.org/pandas-docs/stable/index.html):\n",
    "\n",
    "> A Python package providing fast, flexible, and expressive data structures designed to make working with “relational” or “labeled” data both easy and intuitive.\n",
    "\n",
    "We also use [matplotlib](http://matplotlib.org/):\n",
    "\n",
    "> A Python 2D plotting library which produces publication quality figures in a variety of hardcopy formats and interactive environments across platforms.\n",
    "\n",
    "Requirements:\n",
    "\n",
    "```\n",
    "(venv) $ pip install pandas matplotlib\n",
    "```\n",
    "\n",
    "We're going to see a sliver of the functionality provided by these packages."
   ]
  },
  {
   "cell_type": "code",
   "execution_count": 1,
   "metadata": {
    "collapsed": true,
    "deletable": true,
    "editable": true
   },
   "outputs": [],
   "source": [
    "import pandas as pd\n",
    "pd.options.display.max_rows = 20\n",
    "\n",
    "%matplotlib inline"
   ]
  },
  {
   "cell_type": "markdown",
   "metadata": {
    "deletable": true,
    "editable": true
   },
   "source": [
    "## Introducing `DataFrame`"
   ]
  },
  {
   "cell_type": "markdown",
   "metadata": {
    "collapsed": true,
    "deletable": true,
    "editable": true
   },
   "source": [
    "From the [docs](http://pandas.pydata.org/pandas-docs/stable/dsintro.html#dataframe):\n",
    "\n",
    "> __DataFrame__ is a 2-dimensional labeled data structure with columns of potentially different types. You can think of it like a spreadsheet or SQL table. It is generally the most commonly used pandas object.\n",
    "\n",
    "There are many ways to get a `DataFrame`, but we'll start with a list of dictionaries."
   ]
  },
  {
   "cell_type": "code",
   "execution_count": 2,
   "metadata": {
    "collapsed": false,
    "deletable": true,
    "editable": true
   },
   "outputs": [
    {
     "name": "stdout",
     "output_type": "stream",
     "text": [
      "<class 'pandas.core.frame.DataFrame'>\n",
      "RangeIndex: 4 entries, 0 to 3\n",
      "Data columns (total 3 columns):\n",
      "float      4 non-null float64\n",
      "integer    4 non-null int64\n",
      "string     4 non-null object\n",
      "dtypes: float64(1), int64(1), object(1)\n",
      "memory usage: 176.0+ bytes\n"
     ]
    },
    {
     "data": {
      "text/html": [
       "<div>\n",
       "<table border=\"1\" class=\"dataframe\">\n",
       "  <thead>\n",
       "    <tr style=\"text-align: right;\">\n",
       "      <th></th>\n",
       "      <th>float</th>\n",
       "      <th>integer</th>\n",
       "      <th>string</th>\n",
       "    </tr>\n",
       "  </thead>\n",
       "  <tbody>\n",
       "    <tr>\n",
       "      <th>0</th>\n",
       "      <td>1.0</td>\n",
       "      <td>1</td>\n",
       "      <td>one</td>\n",
       "    </tr>\n",
       "    <tr>\n",
       "      <th>1</th>\n",
       "      <td>2.0</td>\n",
       "      <td>2</td>\n",
       "      <td>two</td>\n",
       "    </tr>\n",
       "    <tr>\n",
       "      <th>2</th>\n",
       "      <td>2.0</td>\n",
       "      <td>2</td>\n",
       "      <td>two</td>\n",
       "    </tr>\n",
       "    <tr>\n",
       "      <th>3</th>\n",
       "      <td>3.0</td>\n",
       "      <td>3</td>\n",
       "      <td>three</td>\n",
       "    </tr>\n",
       "  </tbody>\n",
       "</table>\n",
       "</div>"
      ],
      "text/plain": [
       "   float  integer string\n",
       "0    1.0        1    one\n",
       "1    2.0        2    two\n",
       "2    2.0        2    two\n",
       "3    3.0        3  three"
      ]
     },
     "execution_count": 2,
     "metadata": {},
     "output_type": "execute_result"
    }
   ],
   "source": [
    "df = pd.DataFrame([\n",
    "    {'integer': 1, 'float': 1.0, 'string': 'one'},\n",
    "    {'integer': 2, 'float': 2.0, 'string': 'two'},\n",
    "    {'integer': 2, 'float': 2.0, 'string': 'two'},\n",
    "    {'integer': 3, 'float': 3.0, 'string': 'three'},\n",
    "])\n",
    "\n",
    "# Print some details about the DataFrame\n",
    "df.info()\n",
    "df"
   ]
  },
  {
   "cell_type": "markdown",
   "metadata": {
    "deletable": true,
    "editable": true
   },
   "source": [
    "The Jupyter Notebook automatically renders `DataFrame` as HTML!\n",
    "\n",
    "Note the first column; this is an `Index`, and is an essential component of `DataFrame`. Here, it was auto-generated, but we can also set it:"
   ]
  },
  {
   "cell_type": "code",
   "execution_count": 3,
   "metadata": {
    "collapsed": false,
    "deletable": true,
    "editable": true
   },
   "outputs": [
    {
     "data": {
      "text/html": [
       "<div>\n",
       "<table border=\"1\" class=\"dataframe\">\n",
       "  <thead>\n",
       "    <tr style=\"text-align: right;\">\n",
       "      <th></th>\n",
       "      <th>float</th>\n",
       "      <th>integer</th>\n",
       "    </tr>\n",
       "    <tr>\n",
       "      <th>string</th>\n",
       "      <th></th>\n",
       "      <th></th>\n",
       "    </tr>\n",
       "  </thead>\n",
       "  <tbody>\n",
       "    <tr>\n",
       "      <th>one</th>\n",
       "      <td>1.0</td>\n",
       "      <td>1</td>\n",
       "    </tr>\n",
       "    <tr>\n",
       "      <th>two</th>\n",
       "      <td>2.0</td>\n",
       "      <td>2</td>\n",
       "    </tr>\n",
       "    <tr>\n",
       "      <th>two</th>\n",
       "      <td>2.0</td>\n",
       "      <td>2</td>\n",
       "    </tr>\n",
       "    <tr>\n",
       "      <th>three</th>\n",
       "      <td>3.0</td>\n",
       "      <td>3</td>\n",
       "    </tr>\n",
       "  </tbody>\n",
       "</table>\n",
       "</div>"
      ],
      "text/plain": [
       "        float  integer\n",
       "string                \n",
       "one       1.0        1\n",
       "two       2.0        2\n",
       "two       2.0        2\n",
       "three     3.0        3"
      ]
     },
     "execution_count": 3,
     "metadata": {},
     "output_type": "execute_result"
    }
   ],
   "source": [
    "df_index = df.set_index('string')\n",
    "df_index"
   ]
  },
  {
   "cell_type": "markdown",
   "metadata": {
    "deletable": true,
    "editable": true
   },
   "source": [
    "The `Index` plays a key role in slicing the `DataFrame`:"
   ]
  },
  {
   "cell_type": "code",
   "execution_count": 4,
   "metadata": {
    "collapsed": false,
    "deletable": true,
    "editable": true
   },
   "outputs": [
    {
     "data": {
      "text/html": [
       "<div>\n",
       "<table border=\"1\" class=\"dataframe\">\n",
       "  <thead>\n",
       "    <tr style=\"text-align: right;\">\n",
       "      <th></th>\n",
       "      <th>float</th>\n",
       "      <th>integer</th>\n",
       "    </tr>\n",
       "    <tr>\n",
       "      <th>string</th>\n",
       "      <th></th>\n",
       "      <th></th>\n",
       "    </tr>\n",
       "  </thead>\n",
       "  <tbody>\n",
       "    <tr>\n",
       "      <th>two</th>\n",
       "      <td>2.0</td>\n",
       "      <td>2</td>\n",
       "    </tr>\n",
       "    <tr>\n",
       "      <th>two</th>\n",
       "      <td>2.0</td>\n",
       "      <td>2</td>\n",
       "    </tr>\n",
       "  </tbody>\n",
       "</table>\n",
       "</div>"
      ],
      "text/plain": [
       "        float  integer\n",
       "string                \n",
       "two       2.0        2\n",
       "two       2.0        2"
      ]
     },
     "execution_count": 4,
     "metadata": {},
     "output_type": "execute_result"
    }
   ],
   "source": [
    "# Slice by label\n",
    "df_index.loc['two']"
   ]
  },
  {
   "cell_type": "code",
   "execution_count": 5,
   "metadata": {
    "collapsed": false,
    "deletable": true,
    "editable": true
   },
   "outputs": [
    {
     "data": {
      "text/html": [
       "<div>\n",
       "<table border=\"1\" class=\"dataframe\">\n",
       "  <thead>\n",
       "    <tr style=\"text-align: right;\">\n",
       "      <th></th>\n",
       "      <th>float</th>\n",
       "      <th>integer</th>\n",
       "    </tr>\n",
       "    <tr>\n",
       "      <th>string</th>\n",
       "      <th></th>\n",
       "      <th></th>\n",
       "    </tr>\n",
       "  </thead>\n",
       "  <tbody>\n",
       "    <tr>\n",
       "      <th>two</th>\n",
       "      <td>2.0</td>\n",
       "      <td>2</td>\n",
       "    </tr>\n",
       "    <tr>\n",
       "      <th>three</th>\n",
       "      <td>3.0</td>\n",
       "      <td>3</td>\n",
       "    </tr>\n",
       "  </tbody>\n",
       "</table>\n",
       "</div>"
      ],
      "text/plain": [
       "        float  integer\n",
       "string                \n",
       "two       2.0        2\n",
       "three     3.0        3"
      ]
     },
     "execution_count": 5,
     "metadata": {},
     "output_type": "execute_result"
    }
   ],
   "source": [
    "# Slice by position\n",
    "df_index.iloc[-2:]"
   ]
  },
  {
   "cell_type": "markdown",
   "metadata": {
    "deletable": true,
    "editable": true
   },
   "source": [
    "We can also get individual columns:"
   ]
  },
  {
   "cell_type": "code",
   "execution_count": 6,
   "metadata": {
    "collapsed": false,
    "deletable": true,
    "editable": true
   },
   "outputs": [
    {
     "data": {
      "text/plain": [
       "string\n",
       "one      1.0\n",
       "two      2.0\n",
       "two      2.0\n",
       "three    3.0\n",
       "Name: float, dtype: float64"
      ]
     },
     "execution_count": 6,
     "metadata": {},
     "output_type": "execute_result"
    }
   ],
   "source": [
    "floats = df_index['float']\n",
    "floats"
   ]
  },
  {
   "cell_type": "markdown",
   "metadata": {
    "deletable": true,
    "editable": true
   },
   "source": [
    "This is a `Series`, which is essentially a one-dimensional `DataFrame`, with a defined data type. Put another way, a `DataFrame` is a collection of `Series`.\n",
    "\n",
    "Note that the `Series` retained the `Index` of our `DataFrame`, so we can use similar slicing:"
   ]
  },
  {
   "cell_type": "code",
   "execution_count": 7,
   "metadata": {
    "collapsed": false,
    "deletable": true,
    "editable": true
   },
   "outputs": [
    {
     "data": {
      "text/plain": [
       "two    2.0\n",
       "two    2.0\n",
       "Name: float, dtype: float64"
      ]
     },
     "execution_count": 7,
     "metadata": {},
     "output_type": "execute_result"
    }
   ],
   "source": [
    "floats['two']"
   ]
  },
  {
   "cell_type": "markdown",
   "metadata": {
    "deletable": true,
    "editable": true
   },
   "source": [
    "`Series` and `DataFrame` support element-wise operations:"
   ]
  },
  {
   "cell_type": "code",
   "execution_count": 8,
   "metadata": {
    "collapsed": false,
    "deletable": true,
    "editable": true
   },
   "outputs": [
    {
     "data": {
      "text/plain": [
       "string\n",
       "one      1.0\n",
       "two      4.0\n",
       "two      4.0\n",
       "three    9.0\n",
       "dtype: float64"
      ]
     },
     "execution_count": 8,
     "metadata": {},
     "output_type": "execute_result"
    }
   ],
   "source": [
    "df_index['float'] * df_index['integer']"
   ]
  },
  {
   "cell_type": "code",
   "execution_count": 9,
   "metadata": {
    "collapsed": false,
    "deletable": true,
    "editable": true
   },
   "outputs": [
    {
     "data": {
      "text/html": [
       "<div>\n",
       "<table border=\"1\" class=\"dataframe\">\n",
       "  <thead>\n",
       "    <tr style=\"text-align: right;\">\n",
       "      <th></th>\n",
       "      <th>float</th>\n",
       "      <th>integer</th>\n",
       "    </tr>\n",
       "    <tr>\n",
       "      <th>string</th>\n",
       "      <th></th>\n",
       "      <th></th>\n",
       "    </tr>\n",
       "  </thead>\n",
       "  <tbody>\n",
       "    <tr>\n",
       "      <th>one</th>\n",
       "      <td>1.0</td>\n",
       "      <td>1</td>\n",
       "    </tr>\n",
       "    <tr>\n",
       "      <th>two</th>\n",
       "      <td>4.0</td>\n",
       "      <td>4</td>\n",
       "    </tr>\n",
       "    <tr>\n",
       "      <th>two</th>\n",
       "      <td>4.0</td>\n",
       "      <td>4</td>\n",
       "    </tr>\n",
       "    <tr>\n",
       "      <th>three</th>\n",
       "      <td>9.0</td>\n",
       "      <td>9</td>\n",
       "    </tr>\n",
       "  </tbody>\n",
       "</table>\n",
       "</div>"
      ],
      "text/plain": [
       "        float  integer\n",
       "string                \n",
       "one       1.0        1\n",
       "two       4.0        4\n",
       "two       4.0        4\n",
       "three     9.0        9"
      ]
     },
     "execution_count": 9,
     "metadata": {},
     "output_type": "execute_result"
    }
   ],
   "source": [
    "df_index * df_index"
   ]
  },
  {
   "cell_type": "code",
   "execution_count": 10,
   "metadata": {
    "collapsed": false,
    "deletable": true,
    "editable": true
   },
   "outputs": [
    {
     "data": {
      "text/plain": [
       "string\n",
       "one      Number 1\n",
       "two      Number 2\n",
       "two      Number 2\n",
       "three    Number 3\n",
       "Name: integer, dtype: object"
      ]
     },
     "execution_count": 10,
     "metadata": {},
     "output_type": "execute_result"
    }
   ],
   "source": [
    "number_format = 'Number {}'.format\n",
    "df_index['integer'].apply(number_format)"
   ]
  },
  {
   "cell_type": "code",
   "execution_count": 11,
   "metadata": {
    "collapsed": false,
    "deletable": true,
    "editable": true
   },
   "outputs": [
    {
     "data": {
      "text/html": [
       "<div>\n",
       "<table border=\"1\" class=\"dataframe\">\n",
       "  <thead>\n",
       "    <tr style=\"text-align: right;\">\n",
       "      <th></th>\n",
       "      <th>float</th>\n",
       "      <th>integer</th>\n",
       "    </tr>\n",
       "    <tr>\n",
       "      <th>string</th>\n",
       "      <th></th>\n",
       "      <th></th>\n",
       "    </tr>\n",
       "  </thead>\n",
       "  <tbody>\n",
       "    <tr>\n",
       "      <th>one</th>\n",
       "      <td>Number 1.0</td>\n",
       "      <td>Number 1</td>\n",
       "    </tr>\n",
       "    <tr>\n",
       "      <th>two</th>\n",
       "      <td>Number 2.0</td>\n",
       "      <td>Number 2</td>\n",
       "    </tr>\n",
       "    <tr>\n",
       "      <th>two</th>\n",
       "      <td>Number 2.0</td>\n",
       "      <td>Number 2</td>\n",
       "    </tr>\n",
       "    <tr>\n",
       "      <th>three</th>\n",
       "      <td>Number 3.0</td>\n",
       "      <td>Number 3</td>\n",
       "    </tr>\n",
       "  </tbody>\n",
       "</table>\n",
       "</div>"
      ],
      "text/plain": [
       "             float   integer\n",
       "string                      \n",
       "one     Number 1.0  Number 1\n",
       "two     Number 2.0  Number 2\n",
       "two     Number 2.0  Number 2\n",
       "three   Number 3.0  Number 3"
      ]
     },
     "execution_count": 11,
     "metadata": {},
     "output_type": "execute_result"
    }
   ],
   "source": [
    "df_index.applymap(number_format)"
   ]
  },
  {
   "cell_type": "markdown",
   "metadata": {
    "deletable": true,
    "editable": true
   },
   "source": [
    "## Using `DataFrame` with Django"
   ]
  },
  {
   "cell_type": "markdown",
   "metadata": {
    "deletable": true,
    "editable": true
   },
   "source": [
    "Django gives us a handy way to build a list of dictionaries:"
   ]
  },
  {
   "cell_type": "code",
   "execution_count": 12,
   "metadata": {
    "collapsed": false,
    "deletable": true,
    "editable": true
   },
   "outputs": [
    {
     "data": {
      "text/plain": [
       "[{'date': datetime.date(2017, 3, 11), 'venue__name': 'Secret Venue', 'venue__city': 'Somerville, MA'}, {'date': datetime.date(2016, 12, 16), 'venue__name': 'Great Scott', 'venue__city': 'Allston, MA'}, {'date': datetime.date(2016, 9, 25), 'venue__name': 'Brighton Music Hall', 'venue__city': 'Allston, MA'}, {'date': datetime.date(2016, 9, 10), 'venue__name': 'Pinebanks Field', 'venue__city': 'Jamaica Plain, MA'}, {'date': datetime.date(2016, 8, 7), 'venue__name': 'State Park', 'venue__city': 'Cambridge, MA'}]"
      ]
     },
     "execution_count": 12,
     "metadata": {},
     "output_type": "execute_result"
    }
   ],
   "source": [
    "gig_values = Gig.objects.past().published().values('date', 'venue__name', 'venue__city')\n",
    "gig_values[:5]"
   ]
  },
  {
   "cell_type": "markdown",
   "metadata": {
    "deletable": true,
    "editable": true
   },
   "source": [
    "`DataFrame` doesn't know what to do with a `QuerySet`; it wants something that looks more like a list.  \n",
    "We could use `list(gig_values)`, but `gig_values.iterator()` is more efficient."
   ]
  },
  {
   "cell_type": "code",
   "execution_count": 13,
   "metadata": {
    "collapsed": false,
    "deletable": true,
    "editable": true,
    "scrolled": false
   },
   "outputs": [
    {
     "name": "stdout",
     "output_type": "stream",
     "text": [
      "<class 'pandas.core.frame.DataFrame'>\n",
      "RangeIndex: 269 entries, 0 to 268\n",
      "Data columns (total 3 columns):\n",
      "date           269 non-null object\n",
      "venue__city    269 non-null object\n",
      "venue__name    269 non-null object\n",
      "dtypes: object(3)\n",
      "memory usage: 6.4+ KB\n"
     ]
    },
    {
     "data": {
      "text/html": [
       "<div>\n",
       "<table border=\"1\" class=\"dataframe\">\n",
       "  <thead>\n",
       "    <tr style=\"text-align: right;\">\n",
       "      <th></th>\n",
       "      <th>date</th>\n",
       "      <th>venue__city</th>\n",
       "      <th>venue__name</th>\n",
       "    </tr>\n",
       "  </thead>\n",
       "  <tbody>\n",
       "    <tr>\n",
       "      <th>0</th>\n",
       "      <td>2017-03-11</td>\n",
       "      <td>Somerville, MA</td>\n",
       "      <td>Secret Venue</td>\n",
       "    </tr>\n",
       "    <tr>\n",
       "      <th>1</th>\n",
       "      <td>2016-12-16</td>\n",
       "      <td>Allston, MA</td>\n",
       "      <td>Great Scott</td>\n",
       "    </tr>\n",
       "    <tr>\n",
       "      <th>2</th>\n",
       "      <td>2016-09-25</td>\n",
       "      <td>Allston, MA</td>\n",
       "      <td>Brighton Music Hall</td>\n",
       "    </tr>\n",
       "    <tr>\n",
       "      <th>3</th>\n",
       "      <td>2016-09-10</td>\n",
       "      <td>Jamaica Plain, MA</td>\n",
       "      <td>Pinebanks Field</td>\n",
       "    </tr>\n",
       "    <tr>\n",
       "      <th>4</th>\n",
       "      <td>2016-08-07</td>\n",
       "      <td>Cambridge, MA</td>\n",
       "      <td>State Park</td>\n",
       "    </tr>\n",
       "    <tr>\n",
       "      <th>5</th>\n",
       "      <td>2016-08-06</td>\n",
       "      <td>Manchester, NH</td>\n",
       "      <td>Fuzz Hut</td>\n",
       "    </tr>\n",
       "    <tr>\n",
       "      <th>6</th>\n",
       "      <td>2016-08-05</td>\n",
       "      <td>Stockbridge, MA</td>\n",
       "      <td>Chesterfest</td>\n",
       "    </tr>\n",
       "    <tr>\n",
       "      <th>7</th>\n",
       "      <td>2016-07-30</td>\n",
       "      <td>Providence, RI</td>\n",
       "      <td>Dusk</td>\n",
       "    </tr>\n",
       "    <tr>\n",
       "      <th>8</th>\n",
       "      <td>2016-07-29</td>\n",
       "      <td>New York, NY</td>\n",
       "      <td>Cake Shop</td>\n",
       "    </tr>\n",
       "    <tr>\n",
       "      <th>9</th>\n",
       "      <td>2016-07-28</td>\n",
       "      <td>Baltimore, MD</td>\n",
       "      <td>Club 603</td>\n",
       "    </tr>\n",
       "    <tr>\n",
       "      <th>...</th>\n",
       "      <td>...</td>\n",
       "      <td>...</td>\n",
       "      <td>...</td>\n",
       "    </tr>\n",
       "    <tr>\n",
       "      <th>259</th>\n",
       "      <td>2006-06-20</td>\n",
       "      <td>Cambridge, MA</td>\n",
       "      <td>The Middle East Upstairs</td>\n",
       "    </tr>\n",
       "    <tr>\n",
       "      <th>260</th>\n",
       "      <td>2006-05-25</td>\n",
       "      <td>Cambridge, MA</td>\n",
       "      <td>TT The Bear's Place</td>\n",
       "    </tr>\n",
       "    <tr>\n",
       "      <th>261</th>\n",
       "      <td>2006-03-25</td>\n",
       "      <td>Boston, MA</td>\n",
       "      <td>Bill's Bar</td>\n",
       "    </tr>\n",
       "    <tr>\n",
       "      <th>262</th>\n",
       "      <td>2006-03-07</td>\n",
       "      <td>Cambridge, MA</td>\n",
       "      <td>Lizard Lounge</td>\n",
       "    </tr>\n",
       "    <tr>\n",
       "      <th>263</th>\n",
       "      <td>2006-03-05</td>\n",
       "      <td>New York, NY</td>\n",
       "      <td>Sin-E</td>\n",
       "    </tr>\n",
       "    <tr>\n",
       "      <th>264</th>\n",
       "      <td>2006-02-16</td>\n",
       "      <td>Allston, MA</td>\n",
       "      <td>Great Scott</td>\n",
       "    </tr>\n",
       "    <tr>\n",
       "      <th>265</th>\n",
       "      <td>2006-02-01</td>\n",
       "      <td>Cambridge, MA</td>\n",
       "      <td>TT The Bear's Place</td>\n",
       "    </tr>\n",
       "    <tr>\n",
       "      <th>266</th>\n",
       "      <td>2006-01-07</td>\n",
       "      <td>New York, NY</td>\n",
       "      <td>Sin-E</td>\n",
       "    </tr>\n",
       "    <tr>\n",
       "      <th>267</th>\n",
       "      <td>2005-12-18</td>\n",
       "      <td>Cambridge, MA</td>\n",
       "      <td>TT The Bear's Place</td>\n",
       "    </tr>\n",
       "    <tr>\n",
       "      <th>268</th>\n",
       "      <td>2005-11-20</td>\n",
       "      <td>Allston, MA</td>\n",
       "      <td>Great Scott</td>\n",
       "    </tr>\n",
       "  </tbody>\n",
       "</table>\n",
       "<p>269 rows × 3 columns</p>\n",
       "</div>"
      ],
      "text/plain": [
       "           date        venue__city               venue__name\n",
       "0    2017-03-11     Somerville, MA              Secret Venue\n",
       "1    2016-12-16        Allston, MA               Great Scott\n",
       "2    2016-09-25        Allston, MA       Brighton Music Hall\n",
       "3    2016-09-10  Jamaica Plain, MA           Pinebanks Field\n",
       "4    2016-08-07      Cambridge, MA                State Park\n",
       "5    2016-08-06     Manchester, NH                  Fuzz Hut\n",
       "6    2016-08-05    Stockbridge, MA               Chesterfest\n",
       "7    2016-07-30     Providence, RI                      Dusk\n",
       "8    2016-07-29       New York, NY                 Cake Shop\n",
       "9    2016-07-28      Baltimore, MD                  Club 603\n",
       "..          ...                ...                       ...\n",
       "259  2006-06-20      Cambridge, MA  The Middle East Upstairs\n",
       "260  2006-05-25      Cambridge, MA       TT The Bear's Place\n",
       "261  2006-03-25         Boston, MA                Bill's Bar\n",
       "262  2006-03-07      Cambridge, MA             Lizard Lounge\n",
       "263  2006-03-05       New York, NY                     Sin-E\n",
       "264  2006-02-16        Allston, MA               Great Scott\n",
       "265  2006-02-01      Cambridge, MA       TT The Bear's Place\n",
       "266  2006-01-07       New York, NY                     Sin-E\n",
       "267  2005-12-18      Cambridge, MA       TT The Bear's Place\n",
       "268  2005-11-20        Allston, MA               Great Scott\n",
       "\n",
       "[269 rows x 3 columns]"
      ]
     },
     "execution_count": 13,
     "metadata": {},
     "output_type": "execute_result"
    }
   ],
   "source": [
    "gigs = pd.DataFrame(gig_values.iterator())\n",
    "gigs.info()\n",
    "gigs"
   ]
  },
  {
   "cell_type": "markdown",
   "metadata": {
    "deletable": true,
    "editable": true
   },
   "source": [
    "This is a good place to start, and we've already got the answer to \"How many gigs have we played\"?\n",
    "\n",
    "However, there are a few ways we can make this easier to work with:\n",
    "\n",
    "- Shorter column names\n",
    "- Predictable column order\n",
    "- Indexed and sorted by date\n",
    "\n",
    "For more control, we'll use a list of tuples to initialize the DataFrame."
   ]
  },
  {
   "cell_type": "code",
   "execution_count": 14,
   "metadata": {
    "collapsed": false,
    "deletable": true,
    "editable": true
   },
   "outputs": [
    {
     "data": {
      "text/plain": [
       "[(datetime.date(2017, 3, 11), 'Secret Venue', 'Somerville, MA'), (datetime.date(2016, 12, 16), 'Great Scott', 'Allston, MA'), (datetime.date(2016, 9, 25), 'Brighton Music Hall', 'Allston, MA'), (datetime.date(2016, 9, 10), 'Pinebanks Field', 'Jamaica Plain, MA'), (datetime.date(2016, 8, 7), 'State Park', 'Cambridge, MA')]"
      ]
     },
     "execution_count": 14,
     "metadata": {},
     "output_type": "execute_result"
    }
   ],
   "source": [
    "gig_values = Gig.objects.past().published().values_list('date', 'venue__name', 'venue__city')\n",
    "gig_values[:5]"
   ]
  },
  {
   "cell_type": "code",
   "execution_count": 15,
   "metadata": {
    "collapsed": false,
    "deletable": true,
    "editable": true,
    "scrolled": false
   },
   "outputs": [
    {
     "name": "stdout",
     "output_type": "stream",
     "text": [
      "<class 'pandas.core.frame.DataFrame'>\n",
      "DatetimeIndex: 269 entries, 2005-11-20 to 2017-03-11\n",
      "Data columns (total 2 columns):\n",
      "venue    269 non-null object\n",
      "city     269 non-null object\n",
      "dtypes: object(2)\n",
      "memory usage: 6.3+ KB\n"
     ]
    },
    {
     "data": {
      "text/html": [
       "<div>\n",
       "<table border=\"1\" class=\"dataframe\">\n",
       "  <thead>\n",
       "    <tr style=\"text-align: right;\">\n",
       "      <th></th>\n",
       "      <th>venue</th>\n",
       "      <th>city</th>\n",
       "    </tr>\n",
       "    <tr>\n",
       "      <th>date</th>\n",
       "      <th></th>\n",
       "      <th></th>\n",
       "    </tr>\n",
       "  </thead>\n",
       "  <tbody>\n",
       "    <tr>\n",
       "      <th>2005-11-20</th>\n",
       "      <td>Great Scott</td>\n",
       "      <td>Allston, MA</td>\n",
       "    </tr>\n",
       "    <tr>\n",
       "      <th>2005-12-18</th>\n",
       "      <td>TT The Bear's Place</td>\n",
       "      <td>Cambridge, MA</td>\n",
       "    </tr>\n",
       "    <tr>\n",
       "      <th>2006-01-07</th>\n",
       "      <td>Sin-E</td>\n",
       "      <td>New York, NY</td>\n",
       "    </tr>\n",
       "    <tr>\n",
       "      <th>2006-02-01</th>\n",
       "      <td>TT The Bear's Place</td>\n",
       "      <td>Cambridge, MA</td>\n",
       "    </tr>\n",
       "    <tr>\n",
       "      <th>2006-02-16</th>\n",
       "      <td>Great Scott</td>\n",
       "      <td>Allston, MA</td>\n",
       "    </tr>\n",
       "  </tbody>\n",
       "</table>\n",
       "</div>"
      ],
      "text/plain": [
       "                          venue           city\n",
       "date                                          \n",
       "2005-11-20          Great Scott    Allston, MA\n",
       "2005-12-18  TT The Bear's Place  Cambridge, MA\n",
       "2006-01-07                Sin-E   New York, NY\n",
       "2006-02-01  TT The Bear's Place  Cambridge, MA\n",
       "2006-02-16          Great Scott    Allston, MA"
      ]
     },
     "execution_count": 15,
     "metadata": {},
     "output_type": "execute_result"
    }
   ],
   "source": [
    "gigs = pd.DataFrame(gig_values.iterator(), columns=['date', 'venue', 'city'])\n",
    "\n",
    "gigs['date'] = pd.to_datetime(gigs['date'])\n",
    "gigs = gigs.set_index('date').sort_index()\n",
    "\n",
    "gigs.info()\n",
    "gigs.head()"
   ]
  },
  {
   "cell_type": "markdown",
   "metadata": {},
   "source": [
    "The previous cell demonstrates a good practice: make all of your modifications to a variable in one cell. This will help prevent surprises when you execute cells out of order as you play with code. If you need to make modifications later in the notebook, assign the result to a new variable."
   ]
  },
  {
   "cell_type": "markdown",
   "metadata": {
    "deletable": true,
    "editable": true
   },
   "source": [
    "## Answering questions\n",
    "\n",
    "\n",
    "### What gigs  did we play last year?"
   ]
  },
  {
   "cell_type": "markdown",
   "metadata": {},
   "source": [
    "Using the date as the `Index` allows for fast slicing:"
   ]
  },
  {
   "cell_type": "code",
   "execution_count": 16,
   "metadata": {
    "collapsed": false,
    "deletable": true,
    "editable": true,
    "scrolled": false
   },
   "outputs": [
    {
     "data": {
      "text/html": [
       "<div>\n",
       "<table border=\"1\" class=\"dataframe\">\n",
       "  <thead>\n",
       "    <tr style=\"text-align: right;\">\n",
       "      <th></th>\n",
       "      <th>venue</th>\n",
       "      <th>city</th>\n",
       "    </tr>\n",
       "    <tr>\n",
       "      <th>date</th>\n",
       "      <th></th>\n",
       "      <th></th>\n",
       "    </tr>\n",
       "  </thead>\n",
       "  <tbody>\n",
       "    <tr>\n",
       "      <th>2016-01-31</th>\n",
       "      <td>Great Scott</td>\n",
       "      <td>Allston, MA</td>\n",
       "    </tr>\n",
       "    <tr>\n",
       "      <th>2016-03-12</th>\n",
       "      <td>The Bowery Electric</td>\n",
       "      <td>New York, NY</td>\n",
       "    </tr>\n",
       "    <tr>\n",
       "      <th>2016-05-12</th>\n",
       "      <td>Great Scott</td>\n",
       "      <td>Allston, MA</td>\n",
       "    </tr>\n",
       "    <tr>\n",
       "      <th>2016-05-14</th>\n",
       "      <td>C'Mon Everybody</td>\n",
       "      <td>Brooklyn, NY</td>\n",
       "    </tr>\n",
       "    <tr>\n",
       "      <th>2016-07-08</th>\n",
       "      <td>The Sinclair</td>\n",
       "      <td>Cambridge, MA</td>\n",
       "    </tr>\n",
       "    <tr>\n",
       "      <th>2016-07-09</th>\n",
       "      <td>Grumpy's</td>\n",
       "      <td>Falmouth, MA</td>\n",
       "    </tr>\n",
       "    <tr>\n",
       "      <th>2016-07-27</th>\n",
       "      <td>Black Cat</td>\n",
       "      <td>Washington, DC</td>\n",
       "    </tr>\n",
       "    <tr>\n",
       "      <th>2016-07-28</th>\n",
       "      <td>Club 603</td>\n",
       "      <td>Baltimore, MD</td>\n",
       "    </tr>\n",
       "    <tr>\n",
       "      <th>2016-07-29</th>\n",
       "      <td>Cake Shop</td>\n",
       "      <td>New York, NY</td>\n",
       "    </tr>\n",
       "    <tr>\n",
       "      <th>2016-07-30</th>\n",
       "      <td>Dusk</td>\n",
       "      <td>Providence, RI</td>\n",
       "    </tr>\n",
       "    <tr>\n",
       "      <th>2016-08-05</th>\n",
       "      <td>Chesterfest</td>\n",
       "      <td>Stockbridge, MA</td>\n",
       "    </tr>\n",
       "    <tr>\n",
       "      <th>2016-08-06</th>\n",
       "      <td>Fuzz Hut</td>\n",
       "      <td>Manchester, NH</td>\n",
       "    </tr>\n",
       "    <tr>\n",
       "      <th>2016-08-07</th>\n",
       "      <td>State Park</td>\n",
       "      <td>Cambridge, MA</td>\n",
       "    </tr>\n",
       "    <tr>\n",
       "      <th>2016-09-10</th>\n",
       "      <td>Pinebanks Field</td>\n",
       "      <td>Jamaica Plain, MA</td>\n",
       "    </tr>\n",
       "    <tr>\n",
       "      <th>2016-09-25</th>\n",
       "      <td>Brighton Music Hall</td>\n",
       "      <td>Allston, MA</td>\n",
       "    </tr>\n",
       "    <tr>\n",
       "      <th>2016-12-16</th>\n",
       "      <td>Great Scott</td>\n",
       "      <td>Allston, MA</td>\n",
       "    </tr>\n",
       "  </tbody>\n",
       "</table>\n",
       "</div>"
      ],
      "text/plain": [
       "                          venue               city\n",
       "date                                              \n",
       "2016-01-31          Great Scott        Allston, MA\n",
       "2016-03-12  The Bowery Electric       New York, NY\n",
       "2016-05-12          Great Scott        Allston, MA\n",
       "2016-05-14      C'Mon Everybody       Brooklyn, NY\n",
       "2016-07-08         The Sinclair      Cambridge, MA\n",
       "2016-07-09             Grumpy's       Falmouth, MA\n",
       "2016-07-27            Black Cat     Washington, DC\n",
       "2016-07-28             Club 603      Baltimore, MD\n",
       "2016-07-29            Cake Shop       New York, NY\n",
       "2016-07-30                 Dusk     Providence, RI\n",
       "2016-08-05          Chesterfest    Stockbridge, MA\n",
       "2016-08-06             Fuzz Hut     Manchester, NH\n",
       "2016-08-07           State Park      Cambridge, MA\n",
       "2016-09-10      Pinebanks Field  Jamaica Plain, MA\n",
       "2016-09-25  Brighton Music Hall        Allston, MA\n",
       "2016-12-16          Great Scott        Allston, MA"
      ]
     },
     "execution_count": 16,
     "metadata": {},
     "output_type": "execute_result"
    }
   ],
   "source": [
    "gigs.loc['2016']"
   ]
  },
  {
   "cell_type": "markdown",
   "metadata": {
    "deletable": true,
    "editable": true
   },
   "source": [
    "### How many gigs have we played each year?"
   ]
  },
  {
   "cell_type": "markdown",
   "metadata": {},
   "source": [
    "The date `Index` also allows for fast aggregration:"
   ]
  },
  {
   "cell_type": "code",
   "execution_count": 17,
   "metadata": {
    "collapsed": false,
    "deletable": true,
    "editable": true
   },
   "outputs": [
    {
     "data": {
      "text/plain": [
       "date\n",
       "2005     2\n",
       "2006    17\n",
       "2007    41\n",
       "2008    40\n",
       "2009    50\n",
       "2010    20\n",
       "2011     8\n",
       "2012    25\n",
       "2013    15\n",
       "2014    21\n",
       "2015    13\n",
       "2016    16\n",
       "2017     1\n",
       "Freq: A-DEC, dtype: int64"
      ]
     },
     "execution_count": 17,
     "metadata": {},
     "output_type": "execute_result"
    }
   ],
   "source": [
    "# resample('A') creates year-end groups like '2005-12-31'\n",
    "# to_period() turns that into '2005'\n",
    "years = gigs.resample('A').size().to_period()\n",
    "years"
   ]
  },
  {
   "cell_type": "code",
   "execution_count": 18,
   "metadata": {
    "collapsed": false,
    "deletable": true,
    "editable": true
   },
   "outputs": [
    {
     "data": {
      "text/plain": [
       "<matplotlib.axes._subplots.AxesSubplot at 0x115383128>"
      ]
     },
     "execution_count": 18,
     "metadata": {},
     "output_type": "execute_result"
    },
    {
     "data": {
      "image/png": "[encoded data removed]",
      "text/plain": [
       "<matplotlib.figure.Figure at 0x115383278>"
      ]
     },
     "metadata": {},
     "output_type": "display_data"
    }
   ],
   "source": [
    "years.plot.bar()"
   ]
  },
  {
   "cell_type": "markdown",
   "metadata": {
    "deletable": true,
    "editable": true
   },
   "source": [
    "### What are our most active months?"
   ]
  },
  {
   "cell_type": "markdown",
   "metadata": {},
   "source": [
    "Get the dates as a `Series`:"
   ]
  },
  {
   "cell_type": "code",
   "execution_count": 19,
   "metadata": {
    "collapsed": false
   },
   "outputs": [
    {
     "data": {
      "text/plain": [
       "0     2005-11-20\n",
       "1     2005-12-18\n",
       "2     2006-01-07\n",
       "3     2006-02-01\n",
       "4     2006-02-16\n",
       "5     2006-03-05\n",
       "6     2006-03-07\n",
       "7     2006-03-25\n",
       "8     2006-05-25\n",
       "9     2006-06-20\n",
       "         ...    \n",
       "259   2016-07-28\n",
       "260   2016-07-29\n",
       "261   2016-07-30\n",
       "262   2016-08-05\n",
       "263   2016-08-06\n",
       "264   2016-08-07\n",
       "265   2016-09-10\n",
       "266   2016-09-25\n",
       "267   2016-12-16\n",
       "268   2017-03-11\n",
       "Name: date, dtype: datetime64[ns]"
      ]
     },
     "execution_count": 19,
     "metadata": {},
     "output_type": "execute_result"
    }
   ],
   "source": [
    "gig_dates = gigs.reset_index()['date']\n",
    "gig_dates"
   ]
  },
  {
   "cell_type": "markdown",
   "metadata": {},
   "source": [
    "Convert those to sortable month names:"
   ]
  },
  {
   "cell_type": "code",
   "execution_count": 20,
   "metadata": {
    "collapsed": false
   },
   "outputs": [
    {
     "data": {
      "text/plain": [
       "0      11 Nov\n",
       "1      12 Dec\n",
       "2      01 Jan\n",
       "3      02 Feb\n",
       "4      02 Feb\n",
       "5      03 Mar\n",
       "6      03 Mar\n",
       "7      03 Mar\n",
       "8      05 May\n",
       "9      06 Jun\n",
       "        ...  \n",
       "259    07 Jul\n",
       "260    07 Jul\n",
       "261    07 Jul\n",
       "262    08 Aug\n",
       "263    08 Aug\n",
       "264    08 Aug\n",
       "265    09 Sep\n",
       "266    09 Sep\n",
       "267    12 Dec\n",
       "268    03 Mar\n",
       "Name: date, dtype: object"
      ]
     },
     "execution_count": 20,
     "metadata": {},
     "output_type": "execute_result"
    }
   ],
   "source": [
    "# Series.dt gives us access to date-related methods\n",
    "gig_months = gig_dates.dt.strftime('%m %b')\n",
    "gig_months"
   ]
  },
  {
   "cell_type": "markdown",
   "metadata": {},
   "source": [
    "Count the unique values:"
   ]
  },
  {
   "cell_type": "code",
   "execution_count": 21,
   "metadata": {
    "collapsed": false,
    "deletable": true,
    "editable": true
   },
   "outputs": [
    {
     "data": {
      "text/plain": [
       "03 Mar    41\n",
       "10 Oct    37\n",
       "06 Jun    32\n",
       "11 Nov    31\n",
       "07 Jul    29\n",
       "05 May    23\n",
       "09 Sep    22\n",
       "02 Feb    15\n",
       "08 Aug    12\n",
       "12 Dec    10\n",
       "04 Apr     9\n",
       "01 Jan     8\n",
       "Name: date, dtype: int64"
      ]
     },
     "execution_count": 21,
     "metadata": {},
     "output_type": "execute_result"
    }
   ],
   "source": [
    "months = gig_months.value_counts()\n",
    "months"
   ]
  },
  {
   "cell_type": "code",
   "execution_count": 22,
   "metadata": {
    "collapsed": false,
    "deletable": true,
    "editable": true
   },
   "outputs": [
    {
     "data": {
      "image/png": "[encoded data removed]",
      "text/plain": [
       "<matplotlib.figure.Figure at 0x1154f8d68>"
      ]
     },
     "metadata": {},
     "output_type": "display_data"
    }
   ],
   "source": [
    "# matplotlib has lots of options for customization\n",
    "ax = months.sort_index().plot.bar(table=True, figsize=(10,5))\n",
    "ax.get_xaxis().set_visible(False)"
   ]
  },
  {
   "cell_type": "markdown",
   "metadata": {
    "deletable": true,
    "editable": true
   },
   "source": [
    "### What cities have we played?"
   ]
  },
  {
   "cell_type": "code",
   "execution_count": 23,
   "metadata": {
    "collapsed": false,
    "deletable": true,
    "editable": true
   },
   "outputs": [
    {
     "data": {
      "text/plain": [
       "date\n",
       "2005-11-20          Allston, MA\n",
       "2005-12-18        Cambridge, MA\n",
       "2006-01-07         New York, NY\n",
       "2006-02-01        Cambridge, MA\n",
       "2006-02-16          Allston, MA\n",
       "2006-03-05         New York, NY\n",
       "2006-03-07        Cambridge, MA\n",
       "2006-03-25           Boston, MA\n",
       "2006-05-25        Cambridge, MA\n",
       "2006-06-20        Cambridge, MA\n",
       "                    ...        \n",
       "2016-07-28        Baltimore, MD\n",
       "2016-07-29         New York, NY\n",
       "2016-07-30       Providence, RI\n",
       "2016-08-05      Stockbridge, MA\n",
       "2016-08-06       Manchester, NH\n",
       "2016-08-07        Cambridge, MA\n",
       "2016-09-10    Jamaica Plain, MA\n",
       "2016-09-25          Allston, MA\n",
       "2016-12-16          Allston, MA\n",
       "2017-03-11       Somerville, MA\n",
       "Name: city, dtype: object"
      ]
     },
     "execution_count": 23,
     "metadata": {},
     "output_type": "execute_result"
    }
   ],
   "source": [
    "gig_cities = gigs['city']\n",
    "gig_cities"
   ]
  },
  {
   "cell_type": "code",
   "execution_count": 24,
   "metadata": {
    "collapsed": false,
    "deletable": true,
    "editable": true
   },
   "outputs": [
    {
     "data": {
      "text/plain": [
       "Cambridge, MA        50\n",
       "Allston, MA          30\n",
       "New York, NY         20\n",
       "Brooklyn, NY         12\n",
       "Boston, MA            9\n",
       "Somerville, MA        7\n",
       "Chicago, IL           6\n",
       "Jamaica Plain, MA     6\n",
       "Pittsburgh, PA        5\n",
       "Buffalo, NY           5\n",
       "                     ..\n",
       "Rochester, NY         1\n",
       "Sacramento, CA        1\n",
       "Seattle, WA           1\n",
       "Norwood, MA           1\n",
       "Ashland, OR           1\n",
       "Manchester, NH        1\n",
       "Charlotte, NC         1\n",
       "Ames, IA              1\n",
       "Dedham, MA            1\n",
       "Lexington, KY         1\n",
       "Name: city, dtype: int64"
      ]
     },
     "execution_count": 24,
     "metadata": {},
     "output_type": "execute_result"
    }
   ],
   "source": [
    "cities = gig_cities.value_counts()\n",
    "cities"
   ]
  },
  {
   "cell_type": "code",
   "execution_count": 25,
   "metadata": {
    "collapsed": false,
    "deletable": true,
    "editable": true
   },
   "outputs": [
    {
     "data": {
      "text/plain": [
       "count    86.000000\n",
       "mean      3.127907\n",
       "std       6.511161\n",
       "min       1.000000\n",
       "25%       1.000000\n",
       "50%       1.000000\n",
       "75%       2.750000\n",
       "max      50.000000\n",
       "Name: city, dtype: float64"
      ]
     },
     "execution_count": 25,
     "metadata": {},
     "output_type": "execute_result"
    }
   ],
   "source": [
    "cities.describe()"
   ]
  },
  {
   "cell_type": "code",
   "execution_count": 26,
   "metadata": {
    "collapsed": false,
    "deletable": true,
    "editable": true
   },
   "outputs": [
    {
     "data": {
      "image/png": "[encoded data removed]",
      "text/plain": [
       "<matplotlib.figure.Figure at 0x115641a20>"
      ]
     },
     "metadata": {},
     "output_type": "display_data"
    }
   ],
   "source": [
    "# Adding the ; suppresses `<matplotlib.axes._subplots.AxesSubplot ...>`\n",
    "cities[:10].sort_values().plot.barh();"
   ]
  },
  {
   "cell_type": "markdown",
   "metadata": {
    "deletable": true,
    "editable": true
   },
   "source": [
    "When did we play in Pittsburgh?\n",
    "\n",
    "We can use a `Series` of boolean values to slice our `DataFrame`:"
   ]
  },
  {
   "cell_type": "code",
   "execution_count": 27,
   "metadata": {
    "collapsed": false,
    "deletable": true,
    "editable": true
   },
   "outputs": [
    {
     "data": {
      "text/plain": [
       "date\n",
       "2005-11-20    False\n",
       "2005-12-18    False\n",
       "2006-01-07    False\n",
       "2006-02-01    False\n",
       "2006-02-16    False\n",
       "2006-03-05    False\n",
       "2006-03-07    False\n",
       "2006-03-25    False\n",
       "2006-05-25    False\n",
       "2006-06-20    False\n",
       "              ...  \n",
       "2016-07-28    False\n",
       "2016-07-29    False\n",
       "2016-07-30    False\n",
       "2016-08-05    False\n",
       "2016-08-06    False\n",
       "2016-08-07    False\n",
       "2016-09-10    False\n",
       "2016-09-25    False\n",
       "2016-12-16    False\n",
       "2017-03-11    False\n",
       "Name: city, dtype: bool"
      ]
     },
     "execution_count": 27,
     "metadata": {},
     "output_type": "execute_result"
    }
   ],
   "source": [
    "# Series.str gives us access to string methods\n",
    "in_pgh = gig_cities.str.contains('Pittsburgh')\n",
    "in_pgh"
   ]
  },
  {
   "cell_type": "code",
   "execution_count": 28,
   "metadata": {
    "collapsed": false,
    "deletable": true,
    "editable": true
   },
   "outputs": [
    {
     "data": {
      "text/html": [
       "<div>\n",
       "<table border=\"1\" class=\"dataframe\">\n",
       "  <thead>\n",
       "    <tr style=\"text-align: right;\">\n",
       "      <th></th>\n",
       "      <th>venue</th>\n",
       "      <th>city</th>\n",
       "    </tr>\n",
       "    <tr>\n",
       "      <th>date</th>\n",
       "      <th></th>\n",
       "      <th></th>\n",
       "    </tr>\n",
       "  </thead>\n",
       "  <tbody>\n",
       "    <tr>\n",
       "      <th>2007-06-30</th>\n",
       "      <td>Bloomfield Bridge Tavern</td>\n",
       "      <td>Pittsburgh, PA</td>\n",
       "    </tr>\n",
       "    <tr>\n",
       "      <th>2008-03-02</th>\n",
       "      <td>Garfield Art Works</td>\n",
       "      <td>Pittsburgh, PA</td>\n",
       "    </tr>\n",
       "    <tr>\n",
       "      <th>2009-10-19</th>\n",
       "      <td>Thunderbird Cafe</td>\n",
       "      <td>Pittsburgh, PA</td>\n",
       "    </tr>\n",
       "    <tr>\n",
       "      <th>2010-10-17</th>\n",
       "      <td>Garfield Art Works</td>\n",
       "      <td>Pittsburgh, PA</td>\n",
       "    </tr>\n",
       "    <tr>\n",
       "      <th>2012-06-22</th>\n",
       "      <td>Garfield Art Works</td>\n",
       "      <td>Pittsburgh, PA</td>\n",
       "    </tr>\n",
       "  </tbody>\n",
       "</table>\n",
       "</div>"
      ],
      "text/plain": [
       "                               venue            city\n",
       "date                                                \n",
       "2007-06-30  Bloomfield Bridge Tavern  Pittsburgh, PA\n",
       "2008-03-02        Garfield Art Works  Pittsburgh, PA\n",
       "2009-10-19          Thunderbird Cafe  Pittsburgh, PA\n",
       "2010-10-17        Garfield Art Works  Pittsburgh, PA\n",
       "2012-06-22        Garfield Art Works  Pittsburgh, PA"
      ]
     },
     "execution_count": 28,
     "metadata": {},
     "output_type": "execute_result"
    }
   ],
   "source": [
    "gigs[in_pgh]"
   ]
  },
  {
   "cell_type": "markdown",
   "metadata": {
    "deletable": true,
    "editable": true
   },
   "source": [
    "### What states have we played?\n",
    "\n",
    "The `Gig` model doesn't have a `state` field, so we need to parse it out. In vanilla Python, we'd do:"
   ]
  },
  {
   "cell_type": "code",
   "execution_count": 29,
   "metadata": {
    "collapsed": false
   },
   "outputs": [
    {
     "data": {
      "text/plain": [
       "'MA'"
      ]
     },
     "execution_count": 29,
     "metadata": {},
     "output_type": "execute_result"
    }
   ],
   "source": [
    "'Boston, MA'.split(',')[1].strip()"
   ]
  },
  {
   "cell_type": "markdown",
   "metadata": {},
   "source": [
    "With pandas, we can do the same thing for every `Series` element:"
   ]
  },
  {
   "cell_type": "code",
   "execution_count": 30,
   "metadata": {
    "collapsed": false,
    "deletable": true,
    "editable": true
   },
   "outputs": [
    {
     "data": {
      "text/plain": [
       "MA    117\n",
       "NY     40\n",
       "PA     11\n",
       "OH     11\n",
       "CA     10\n",
       "IL      8\n",
       "CT      7\n",
       "VA      6\n",
       "TX      6\n",
       "KY      4\n",
       "     ... \n",
       "ON      2\n",
       "UT      1\n",
       "RI      1\n",
       "QC      1\n",
       "MO      1\n",
       "WA      1\n",
       "LA      1\n",
       "CO      1\n",
       "VT      1\n",
       "KS      1\n",
       "Name: city, dtype: int64"
      ]
     },
     "execution_count": 30,
     "metadata": {},
     "output_type": "execute_result"
    }
   ],
   "source": [
    "states = gig_cities.str.split(',').str.get(1).str.strip().value_counts()\n",
    "states"
   ]
  },
  {
   "cell_type": "code",
   "execution_count": 31,
   "metadata": {
    "collapsed": false,
    "deletable": true,
    "editable": true
   },
   "outputs": [
    {
     "data": {
      "text/plain": [
       "count     34.000000\n",
       "mean       7.911765\n",
       "std       20.467813\n",
       "min        1.000000\n",
       "25%        1.250000\n",
       "50%        3.000000\n",
       "75%        5.500000\n",
       "max      117.000000\n",
       "Name: city, dtype: float64"
      ]
     },
     "execution_count": 31,
     "metadata": {},
     "output_type": "execute_result"
    }
   ],
   "source": [
    "states.describe()"
   ]
  },
  {
   "cell_type": "code",
   "execution_count": 32,
   "metadata": {
    "collapsed": false,
    "deletable": true,
    "editable": true
   },
   "outputs": [
    {
     "data": {
      "image/png": "[encoded data removed]",
      "text/plain": [
       "<matplotlib.figure.Figure at 0x1157fa6d8>"
      ]
     },
     "metadata": {},
     "output_type": "display_data"
    }
   ],
   "source": [
    "# Don't rotate the x-axis labels\n",
    "states[:5].plot.bar(rot=0);"
   ]
  },
  {
   "cell_type": "markdown",
   "metadata": {
    "deletable": true,
    "editable": true
   },
   "source": [
    "### What venues have we played?"
   ]
  },
  {
   "cell_type": "markdown",
   "metadata": {},
   "source": [
    "`DataFrame` has powerful grouping and aggregration functionality:"
   ]
  },
  {
   "cell_type": "code",
   "execution_count": 33,
   "metadata": {
    "collapsed": false,
    "deletable": true,
    "editable": true
   },
   "outputs": [
    {
     "data": {
      "text/plain": [
       "venue                        city              \n",
       "3rd Floor Studio             Fredericksburg, VA    1\n",
       "501 Club                     Minneapolis, MN       1\n",
       "Allandale Farm               Jamaica Plain, MA     1\n",
       "Allston Village Street Fair  Allston, MA           1\n",
       "Arlene's Grocery             New York, NY          1\n",
       "ArtBeat                      Somerville, MA        1\n",
       "Atwood's Tavern              Cambridge, MA         1\n",
       "Bayside Bowl                 Portland, ME          1\n",
       "Beat Kitchen                 Chicago, IL           1\n",
       "Berbati's Pan                Portland, OR          1\n",
       "                                                  ..\n",
       "Union Hall                   Brooklyn, NY          2\n",
       "Union Pool                   Brooklyn, NY          1\n",
       "Ursinus College              Collegeville, PA      1\n",
       "Valentine's                  Albany, NY            2\n",
       "Vaudeville Mews              Des Moines, IA        1\n",
       "Viper Room                   Los Angeles, CA       1\n",
       "WMBR 88.1 FM Pipeline        Cambridge, MA         2\n",
       "Wesleyan College             Middletown, CT        1\n",
       "Zirzamin                     New York, NY          1\n",
       "ZuZu                         Cambridge, MA         3\n",
       "dtype: int64"
      ]
     },
     "execution_count": 33,
     "metadata": {},
     "output_type": "execute_result"
    }
   ],
   "source": [
    "venues = gigs.groupby(['venue', 'city']).size()\n",
    "venues"
   ]
  },
  {
   "cell_type": "markdown",
   "metadata": {
    "deletable": true,
    "editable": true
   },
   "source": [
    "This `Series` has a `MultiIndex`. Very useful, but beyond the scope of this presentation..."
   ]
  },
  {
   "cell_type": "code",
   "execution_count": 34,
   "metadata": {
    "collapsed": false,
    "deletable": true,
    "editable": true
   },
   "outputs": [
    {
     "data": {
      "text/plain": [
       "count    171.000000\n",
       "mean       1.573099\n",
       "std        2.169083\n",
       "min        1.000000\n",
       "25%        1.000000\n",
       "50%        1.000000\n",
       "75%        1.000000\n",
       "max       25.000000\n",
       "dtype: float64"
      ]
     },
     "execution_count": 34,
     "metadata": {},
     "output_type": "execute_result"
    }
   ],
   "source": [
    "venues.describe()"
   ]
  },
  {
   "cell_type": "code",
   "execution_count": 35,
   "metadata": {
    "collapsed": false,
    "deletable": true,
    "editable": true,
    "scrolled": true
   },
   "outputs": [
    {
     "data": {
      "text/plain": [
       "venue                       city          \n",
       "Great Scott                 Allston, MA       25\n",
       "TT The Bear's Place         Cambridge, MA     11\n",
       "The Middle East Upstairs    Cambridge, MA      8\n",
       "The Middle East Downstairs  Cambridge, MA      7\n",
       "The Mercury Lounge          New York, NY       5\n",
       "The Sinclair                Cambridge, MA      5\n",
       "Cake Shop                   New York, NY       4\n",
       "Garfield Art Works          Pittsburgh, PA     3\n",
       "Ralph's Diner               Worcester, MA      3\n",
       "The Beachland Tavern        Cleveland, OH      3\n",
       "dtype: int64"
      ]
     },
     "execution_count": 35,
     "metadata": {},
     "output_type": "execute_result"
    }
   ],
   "source": [
    "top_venues = venues.nlargest(10)\n",
    "top_venues"
   ]
  },
  {
   "cell_type": "code",
   "execution_count": 36,
   "metadata": {
    "collapsed": false,
    "deletable": true,
    "editable": true,
    "scrolled": true
   },
   "outputs": [
    {
     "data": {
      "image/png": "[encoded data removed]",
      "text/plain": [
       "<matplotlib.figure.Figure at 0x1157e9dd8>"
      ]
     },
     "metadata": {},
     "output_type": "display_data"
    }
   ],
   "source": [
    "top_venues.sort_values().plot.barh();"
   ]
  },
  {
   "cell_type": "code",
   "execution_count": null,
   "metadata": {
    "collapsed": true,
    "deletable": true,
    "editable": true
   },
   "outputs": [],
   "source": []
  }
 ],
 "metadata": {
  "kernelspec": {
   "display_name": "Django Shell-Plus",
   "language": "python",
   "name": "django_extensions"
  },
  "language_info": {
   "codemirror_mode": {
    "name": "ipython",
    "version": 3
   },
   "file_extension": ".py",
   "mimetype": "text/x-python",
   "name": "python",
   "nbconvert_exporter": "python",
   "pygments_lexer": "ipython3",
   "version": "3.6.0"
  }
 },
 "nbformat": 4,
 "nbformat_minor": 2
}
